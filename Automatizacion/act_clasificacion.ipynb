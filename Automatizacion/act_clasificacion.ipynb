{
 "cells": [
  {
   "cell_type": "markdown",
   "metadata": {},
   "source": [
    "# Ejercicio 1"
   ]
  },
  {
   "cell_type": "markdown",
   "metadata": {},
   "source": [
    "#### Librerias"
   ]
  },
  {
   "cell_type": "code",
   "execution_count": 24,
   "metadata": {},
   "outputs": [],
   "source": [
    "import numpy as np\n",
    "import matplotlib.pyplot as plt\n",
    "from sklearn.svm import SVC\n",
    "from sklearn.model_selection import StratifiedKFold\n",
    "from sklearn.metrics import classification_report\n",
    "from sklearn.tree import DecisionTreeClassifier\n",
    "from sklearn.neighbors import KNeighborsClassifier\n",
    "from sklearn.discriminant_analysis import LinearDiscriminantAnalysis"
   ]
  },
  {
   "cell_type": "markdown",
   "metadata": {},
   "source": [
    "1. Cargar y explorar el conjunto de datos"
   ]
  },
  {
   "cell_type": "code",
   "execution_count": 25,
   "metadata": {},
   "outputs": [
    {
     "data": {
      "text/plain": [
       "array([[ 1.        ,  1.        ,  0.20471879, ..., -0.38403021,\n",
       "         0.79797814,  0.89686051],\n",
       "       [ 1.        ,  1.        ,  1.2522784 , ...,  0.40357021,\n",
       "         0.4111649 ,  0.61222298],\n",
       "       [ 1.        ,  1.        ,  0.07537733, ..., -0.55188302,\n",
       "        -1.23183724, -1.14983922],\n",
       "       ...,\n",
       "       [ 2.        ,  1.        ,  0.23655468, ..., -0.73891858,\n",
       "        -0.56288248,  0.01337943],\n",
       "       [ 2.        ,  1.        , -0.6004833 , ...,  1.2057515 ,\n",
       "         1.23724818,  0.80444006],\n",
       "       [ 2.        ,  1.        , -0.99336043, ..., -1.08128608,\n",
       "        -0.19145452,  0.17883186]])"
      ]
     },
     "execution_count": 25,
     "metadata": {},
     "output_type": "execute_result"
    }
   ],
   "source": [
    "import numpy as np\n",
    "\n",
    "# Cargar el conjunto de datos\n",
    "data = np.loadtxt('./Archivos/P1_2.txt')  # Cambia el nombre del archivo según tu número de matrícula\n",
    "\n",
    "data\n"
   ]
  },
  {
   "cell_type": "markdown",
   "metadata": {},
   "source": [
    "2. Balanceo de datos (si es necesario)"
   ]
  },
  {
   "cell_type": "code",
   "execution_count": 26,
   "metadata": {},
   "outputs": [
    {
     "name": "stdout",
     "output_type": "stream",
     "text": [
      "              precision    recall  f1-score   support\n",
      "\n",
      "         1.0       0.71      0.57      0.63       284\n",
      "         2.0       0.93      0.96      0.95      1706\n",
      "\n",
      "    accuracy                           0.91      1990\n",
      "   macro avg       0.82      0.77      0.79      1990\n",
      "weighted avg       0.90      0.91      0.90      1990\n",
      "\n"
     ]
    }
   ],
   "source": [
    "x = data[:,1:]\n",
    "y = data[:,0]\n",
    "kf = StratifiedKFold(n_splits=5, shuffle = True)\n",
    "clf = SVC(kernel = 'linear')\n",
    "cv_y_test = []\n",
    "cv_y_pred = []\n",
    "for train_index, test_index in kf.split(x, y):\n",
    "    x_train = x[train_index, :]\n",
    "    y_train = y[train_index]\n",
    "    clf.fit(x_train, y_train)\n",
    "    x_test = x[test_index, :]\n",
    "    y_test = y[test_index]\n",
    "    y_pred = clf.predict(x_test)\n",
    "    cv_y_test.append(y_test)\n",
    "    cv_y_pred.append(y_pred)\n",
    "print(classification_report(np.concatenate(cv_y_test), np.concatenate(cv_y_pred)))"
   ]
  },
  {
   "cell_type": "code",
   "execution_count": 27,
   "metadata": {},
   "outputs": [
    {
     "name": "stdout",
     "output_type": "stream",
     "text": [
      "Número de muestras de clase 1 después de SMOTE: 1706\n",
      "Número de muestras de clase 2 después de SMOTE: 1706\n"
     ]
    }
   ],
   "source": [
    "from imblearn.over_sampling import SMOTE\n",
    "\n",
    "# Aplicar SMOTE para balancear las clases\n",
    "smote = SMOTE(random_state=42)\n",
    "X_resampled, y_resampled = smote.fit_resample(x, y)\n",
    "\n",
    "# Verificar el balance\n",
    "clase_1_resampled = np.sum(y_resampled == 1)\n",
    "clase_2_resampled = np.sum(y_resampled == 2)\n",
    "print(f'Número de muestras de clase 1 después de SMOTE: {clase_1_resampled}')\n",
    "print(f'Número de muestras de clase 2 después de SMOTE: {clase_2_resampled}')\n"
   ]
  },
  {
   "cell_type": "code",
   "execution_count": 28,
   "metadata": {},
   "outputs": [],
   "source": [
    "from sklearn.preprocessing import StandardScaler\n",
    "\n",
    "scaler = StandardScaler()\n",
    "X_resampled_scaled = scaler.fit_transform(X_resampled)"
   ]
  },
  {
   "cell_type": "code",
   "execution_count": 29,
   "metadata": {},
   "outputs": [
    {
     "name": "stdout",
     "output_type": "stream",
     "text": [
      "Modelo: LogisticRegression\n",
      "Precisión: 0.8903868698710434\n",
      "Recall: 0.9021101992966002\n",
      "F1: 0.8916570104287369\n",
      "Matriz de Confusión:\n",
      "[[1539  167]\n",
      " [ 207 1499]]\n",
      "----------------------------------------\n",
      "Modelo: DecisionTreeClassifier\n",
      "Precisión: 0.8420281359906213\n",
      "Recall: 0.8792497069167644\n",
      "F1: 0.8476970895733258\n",
      "Matriz de Confusión:\n",
      "[[1500  206]\n",
      " [ 333 1373]]\n",
      "----------------------------------------\n",
      "Modelo: SVC\n",
      "Precisión: 0.9753810082063306\n",
      "Recall: 0.9835873388042204\n",
      "F1: 0.9755813953488373\n",
      "Matriz de Confusión:\n",
      "[[1678   28]\n",
      " [  56 1650]]\n",
      "----------------------------------------\n",
      "Modelo: KNeighborsClassifier\n",
      "Precisión: 0.6351113716295428\n",
      "Recall: 0.9982415005861665\n",
      "F1: 0.7323156310470866\n",
      "Matriz de Confusión:\n",
      "[[1703    3]\n",
      " [1242  464]]\n",
      "----------------------------------------\n",
      "Modelo: RandomForestClassifier\n",
      "Precisión: 0.9742086752637749\n",
      "Recall: 0.9683470105509965\n",
      "F1: 0.9740566037735849\n",
      "Matriz de Confusión:\n",
      "[[1652   54]\n",
      " [  34 1672]]\n",
      "----------------------------------------\n"
     ]
    }
   ],
   "source": [
    "from sklearn.linear_model import LogisticRegression\n",
    "from sklearn.tree import DecisionTreeClassifier\n",
    "from sklearn.svm import SVC\n",
    "from sklearn.neighbors import KNeighborsClassifier\n",
    "from sklearn.ensemble import RandomForestClassifier\n",
    "from sklearn.model_selection import cross_val_predict\n",
    "from sklearn.metrics import accuracy_score, precision_score, recall_score, f1_score, confusion_matrix\n",
    "\n",
    "# Crear instancias de los modelos\n",
    "models = [\n",
    "    LogisticRegression(solver='liblinear', max_iter=1000),\n",
    "    DecisionTreeClassifier(),\n",
    "    SVC(),\n",
    "    KNeighborsClassifier(),\n",
    "    RandomForestClassifier()\n",
    "]\n",
    "\n",
    "for model in models:\n",
    "    # Realizar validación cruzada y hacer predicciones\n",
    "    y_pred = cross_val_predict(model, X_resampled, y_resampled, cv=5)\n",
    "    \n",
    "    # Calcular métricas\n",
    "    accuracy = accuracy_score(y_resampled, y_pred)\n",
    "    precision = precision_score(y_resampled, y_pred)\n",
    "    recall = recall_score(y_resampled, y_pred)\n",
    "    f1 = f1_score(y_resampled, y_pred)\n",
    "    confusion = confusion_matrix(y_resampled, y_pred)\n",
    "    \n",
    "    print(f'Modelo: {model.__class__.__name__}')\n",
    "    print(f'Precisión: {accuracy}')\n",
    "    print(f'Recall: {recall}')\n",
    "    print(f'F1: {f1}')\n",
    "    print(f'Matriz de Confusión:')\n",
    "    print(confusion)\n",
    "    print('----------------------------------------')\n",
    "\n",
    "\n"
   ]
  },
  {
   "cell_type": "markdown",
   "metadata": {},
   "source": [
    "3. Implementar la regresión logística desde cero y evaluarla"
   ]
  },
  {
   "cell_type": "code",
   "execution_count": 36,
   "metadata": {},
   "outputs": [],
   "source": [
    "class LogisticRegressionS:\n",
    "    def __init__(self, alpha=0.0005, max_iterations=100000):\n",
    "        self.alpha = alpha\n",
    "        self.max_iterations = max_iterations\n",
    "\n",
    "    def sigmoid(self, z):\n",
    "        z = np.clip(z, -500, 500)\n",
    "        return 1 / (1 + np.exp(-z))\n",
    "\n",
    "    def fit(self, X, y):\n",
    "        self.beta = self.fit_model(X, y, self.alpha, self.max_iterations)\n",
    "\n",
    "    def fit_model(self, X, y, alpha=0.0005, max_iterations=100000):\n",
    "        npredictors = X.shape[1]\n",
    "        beta = 2 * np.random.rand(npredictors) - 1.0\n",
    "        it = 0\n",
    "\n",
    "        while (np.linalg.norm(self.gradient(X, y, beta)) > 1e-4) and (it < max_iterations):\n",
    "            beta = beta - alpha * self.gradient(X, y, beta)\n",
    "            it = it + 1\n",
    "\n",
    "        return beta\n",
    "\n",
    "    def gradient(self, X, y, beta):\n",
    "        xbeta = X @ beta\n",
    "        c0 = (y == 0)\n",
    "        c1 = (y == 1)\n",
    "\n",
    "        exp0 = np.exp(xbeta[c0])\n",
    "        l0 = (exp0 / (1 + exp0)) * X[c0, :].transpose()\n",
    "\n",
    "        exp1 = np.exp(xbeta[c1])\n",
    "        l1 = (exp1 / (1 + exp1)) * X[c1, :].transpose()\n",
    "\n",
    "        return l0.sum(axis=1) - l1.sum(axis=1)\n",
    "\n",
    "    def predict(self, X):\n",
    "        xbeta = X @ self.beta\n",
    "        tmp = 1. / (1. + np.exp(-xbeta))\n",
    "        return (tmp > 0.5).astype(\"int32\")\n",
    "    \n",
    "    def accuracy(self, y_true, y_pred):\n",
    "        return np.mean(y_true == y_pred)\n"
   ]
  },
  {
   "cell_type": "code",
   "execution_count": 37,
   "metadata": {},
   "outputs": [
    {
     "name": "stdout",
     "output_type": "stream",
     "text": [
      "Precisión del modelo: 44.95%\n",
      "              precision    recall  f1-score   support\n",
      "\n",
      "         0.0       0.00      1.00      0.00         0\n",
      "         1.0       0.89      0.91      0.90       339\n",
      "         2.0       1.00      0.00      0.00       344\n",
      "\n",
      "    accuracy                           0.45       683\n",
      "   macro avg       0.63      0.64      0.30       683\n",
      "weighted avg       0.95      0.45      0.45       683\n",
      "\n"
     ]
    },
    {
     "name": "stderr",
     "output_type": "stream",
     "text": [
      "C:\\Users\\luisr\\AppData\\Local\\Temp\\ipykernel_12824\\2394835784.py:32: RuntimeWarning: overflow encountered in exp\n",
      "  exp1 = np.exp(xbeta[c1])\n",
      "C:\\Users\\luisr\\AppData\\Local\\Temp\\ipykernel_12824\\2394835784.py:33: RuntimeWarning: invalid value encountered in divide\n",
      "  l1 = (exp1 / (1 + exp1)) * X[c1, :].transpose()\n",
      "C:\\Users\\luisr\\AppData\\Local\\Temp\\ipykernel_12824\\2394835784.py:39: RuntimeWarning: overflow encountered in exp\n",
      "  tmp = 1. / (1. + np.exp(-xbeta))\n"
     ]
    }
   ],
   "source": [
    "# Hacemos el modelo con nuestra clase\n",
    "model = LogisticRegressionS(alpha=0.0005, max_iterations=100)\n",
    "model.fit(X_resampled_scaled, y_resampled)\n",
    "\n",
    "from sklearn.model_selection import train_test_split\n",
    "\n",
    "# Dividir el conjunto de datos en entrenamiento y prueba\n",
    "X_train, X_test, y_train, y_test = train_test_split(X_resampled_scaled, y_resampled, test_size=0.2, random_state=42)\n",
    "# Realizar predicciones en el conjunto de prueba\n",
    "y_pred = model.predict(X_test)\n",
    "\n",
    "# Calcular y mostrar la precisión\n",
    "accuracy = model.accuracy(y_test, y_pred)\n",
    "print(f\"Precisión del modelo: {accuracy * 100:.2f}%\")\n",
    "\n",
    "# Imprime un informe de clasificación detallado\n",
    "print(classification_report(y_test, y_pred, zero_division=1))\n"
   ]
  },
  {
   "cell_type": "code",
   "execution_count": null,
   "metadata": {},
   "outputs": [],
   "source": []
  }
 ],
 "metadata": {
  "kernelspec": {
   "display_name": "Python 3",
   "language": "python",
   "name": "python3"
  },
  "language_info": {
   "codemirror_mode": {
    "name": "ipython",
    "version": 3
   },
   "file_extension": ".py",
   "mimetype": "text/x-python",
   "name": "python",
   "nbconvert_exporter": "python",
   "pygments_lexer": "ipython3",
   "version": "3.10.11"
  },
  "orig_nbformat": 4
 },
 "nbformat": 4,
 "nbformat_minor": 2
}
